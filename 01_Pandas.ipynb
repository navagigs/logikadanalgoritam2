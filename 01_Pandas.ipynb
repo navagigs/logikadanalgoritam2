{
  "nbformat": 4,
  "nbformat_minor": 0,
  "metadata": {
    "colab": {
      "provenance": [],
      "authorship_tag": "ABX9TyNAouQ7jASbRyZDP7VGgtkZ",
      "include_colab_link": true
    },
    "kernelspec": {
      "name": "python3",
      "display_name": "Python 3"
    },
    "language_info": {
      "name": "python"
    }
  },
  "cells": [
    {
      "cell_type": "markdown",
      "metadata": {
        "id": "view-in-github",
        "colab_type": "text"
      },
      "source": [
        "<a href=\"https://colab.research.google.com/github/navagigs/logikadanalgoritma2/blob/master/01_Pandas.ipynb\" target=\"_parent\"><img src=\"https://colab.research.google.com/assets/colab-badge.svg\" alt=\"Open In Colab\"/></a>"
      ]
    },
    {
      "cell_type": "markdown",
      "source": [
        "# Intro to Pandas"
      ],
      "metadata": {
        "id": "J_Y3DL82jSam"
      }
    },
    {
      "cell_type": "code",
      "execution_count": 1,
      "metadata": {
        "colab": {
          "base_uri": "https://localhost:8080/"
        },
        "id": "fdz3HbM9XSfr",
        "outputId": "fcfcca1e-e03a-496a-e076-b7cf59fba526"
      },
      "outputs": [
        {
          "output_type": "stream",
          "name": "stdout",
          "text": [
            "       lecture  score\n",
            "0  Rahma Hanum      7\n",
            "1      Trianty      5\n",
            "2     Nava Gia      3\n"
          ]
        }
      ],
      "source": [
        "#import library pandas\n",
        "import pandas as pd\n",
        "\n",
        "#dataset\n",
        "mydataset = {\n",
        "  'lecture': [\"Rahma Hanum\", \"Trianty\", \"Nava Gia\"],\n",
        "  'score': [7, 5, 3]\n",
        "}\n",
        "\n",
        "#Konversi dua kolom lecuture dan score\n",
        "myvar = pd.DataFrame(mydataset)\n",
        "\n",
        "print(myvar)"
      ]
    },
    {
      "cell_type": "markdown",
      "source": [
        "# Pandas Series"
      ],
      "metadata": {
        "id": "HBxGclDdjcND"
      }
    },
    {
      "cell_type": "code",
      "source": [
        "import pandas as pd\n",
        "\n",
        "lecture = [\"Rahma Hanum\", \"Trianty\", \"Nava Gia\"]\n",
        "     \n",
        "myvar = pd.Series (lecture)\n",
        "\n",
        "print (myvar)"
      ],
      "metadata": {
        "colab": {
          "base_uri": "https://localhost:8080/"
        },
        "id": "YtQMgHIOYAsw",
        "outputId": "5cfa430c-00e6-4fb7-dc42-a6dc07f5215f"
      },
      "execution_count": 8,
      "outputs": [
        {
          "output_type": "stream",
          "name": "stdout",
          "text": [
            "0    Rahma Hanum\n",
            "1        Trianty\n",
            "2       Nava Gia\n",
            "dtype: object\n"
          ]
        }
      ]
    },
    {
      "cell_type": "markdown",
      "source": [
        "Setelah membuat label, Kita dapat mengakses item dengan merujuk ke label."
      ],
      "metadata": {
        "id": "7nXpv5vIhnIl"
      }
    },
    {
      "cell_type": "code",
      "source": [
        "print (myvar[0])"
      ],
      "metadata": {
        "colab": {
          "base_uri": "https://localhost:8080/"
        },
        "id": "4SckAyfjeQo-",
        "outputId": "43bdece4-38c6-4e36-bc05-022e13dda5f9"
      },
      "execution_count": 7,
      "outputs": [
        {
          "output_type": "stream",
          "name": "stdout",
          "text": [
            "Rahma Hanum\n"
          ]
        }
      ]
    },
    {
      "cell_type": "code",
      "source": [
        "import pandas as pd\n",
        "\n",
        "lecture = [\"Rahma Hanum\", \"Trianty\", \"Nava Gia\"]\n",
        "\n",
        "#memberi label x,yz\n",
        "myvar = pd.Series(lecture, index = [\"x\", \"y\", \"z\"])\n",
        "\n",
        "print(myvar)"
      ],
      "metadata": {
        "colab": {
          "base_uri": "https://localhost:8080/"
        },
        "id": "SO4ohnl8j4KS",
        "outputId": "5a5176cd-a989-4321-c192-b097f048e0d1"
      },
      "execution_count": 9,
      "outputs": [
        {
          "output_type": "stream",
          "name": "stdout",
          "text": [
            "x    Rahma Hanum\n",
            "y        Trianty\n",
            "z       Nava Gia\n",
            "dtype: object\n"
          ]
        }
      ]
    },
    {
      "cell_type": "markdown",
      "source": [
        "Setelah membuat label, Kita dapat mengakses item dengan merujuk ke label."
      ],
      "metadata": {
        "id": "If8Pf1NilPOX"
      }
    },
    {
      "cell_type": "code",
      "source": [
        "print(myvar[\"y\"])"
      ],
      "metadata": {
        "colab": {
          "base_uri": "https://localhost:8080/"
        },
        "id": "_lhD7zmClRaS",
        "outputId": "1b358ecc-b08d-4c1d-d201-97cc99cd08e8"
      },
      "execution_count": 10,
      "outputs": [
        {
          "output_type": "stream",
          "name": "stdout",
          "text": [
            "Trianty\n"
          ]
        }
      ]
    },
    {
      "cell_type": "markdown",
      "source": [
        "## Key/Value Objects as Series"
      ],
      "metadata": {
        "id": "p2i6mTWhlYZt"
      }
    },
    {
      "cell_type": "code",
      "source": [
        "import pandas as pd\n",
        "\n",
        "lecture = {\"Rahma Hanum\": 7, \"Trianty\": 5, \"Nava Gia\": 3}\n",
        "\n",
        "myvar = pd.Series(lecture)\n",
        "\n",
        "print(myvar)"
      ],
      "metadata": {
        "colab": {
          "base_uri": "https://localhost:8080/"
        },
        "id": "-Oty5lBJlaYh",
        "outputId": "ee92dd24-6c88-4405-c602-120c41d32b61"
      },
      "execution_count": 13,
      "outputs": [
        {
          "output_type": "stream",
          "name": "stdout",
          "text": [
            "Rahma Hanum    7\n",
            "Trianty        5\n",
            "Nava Gia       3\n",
            "dtype: int64\n"
          ]
        }
      ]
    },
    {
      "cell_type": "markdown",
      "source": [
        "Untuk memilih hanya beberapa item dalam kamus, gunakan indeks argumen dan hanya tentukan item yang ingin Kita sertakan dalam Seri."
      ],
      "metadata": {
        "id": "mISQzmqOmfv3"
      }
    },
    {
      "cell_type": "code",
      "source": [
        "import pandas as pd\n",
        "\n",
        "lecture = {\"Rahma Hanum\": 7, \"Trianty\": 5, \"Nava Gia\": 3}\n",
        "\n",
        "myvar = pd.Series(lecture, index = [\"Rahma Hanum\", \"Trianty\"])\n",
        "\n",
        "print(myvar)"
      ],
      "metadata": {
        "colab": {
          "base_uri": "https://localhost:8080/"
        },
        "id": "XlRPkOh8mgio",
        "outputId": "c60cdbe7-3ae5-4a46-c77e-f43d2c0e3fdb"
      },
      "execution_count": 16,
      "outputs": [
        {
          "output_type": "stream",
          "name": "stdout",
          "text": [
            "Rahma Hanum    7\n",
            "Trianty        5\n",
            "dtype: int64\n"
          ]
        }
      ]
    },
    {
      "cell_type": "markdown",
      "source": [
        "# Pandas DataFrames"
      ],
      "metadata": {
        "id": "xEETS0CZqUpY"
      }
    },
    {
      "cell_type": "code",
      "source": [
        "import pandas as pd\n",
        "\n",
        "data = {\n",
        "  \"calories\": [420, 380, 390],\n",
        "  \"duration\": [50, 40, 45]\n",
        "}\n",
        "\n",
        "myvar = pd.DataFrame(data)\n",
        "df = pd.DataFrame(data)\n",
        "print(myvar)"
      ],
      "metadata": {
        "colab": {
          "base_uri": "https://localhost:8080/"
        },
        "id": "iMUw2drmqX8M",
        "outputId": "35bc3a00-4711-45fa-a039-b6e6a51c7de5"
      },
      "execution_count": 17,
      "outputs": [
        {
          "output_type": "stream",
          "name": "stdout",
          "text": [
            "   calories  duration\n",
            "0       420        50\n",
            "1       380        40\n",
            "2       390        45\n"
          ]
        }
      ]
    },
    {
      "cell_type": "markdown",
      "source": [
        "##Locate Row"
      ],
      "metadata": {
        "id": "9p8f7tBAuBTy"
      }
    },
    {
      "cell_type": "code",
      "source": [
        "#merujuk ke indeks baris:\n",
        "print(df.loc[0])"
      ],
      "metadata": {
        "colab": {
          "base_uri": "https://localhost:8080/"
        },
        "id": "lCP7HRd3uCB4",
        "outputId": "e532f96b-33b0-48af-e13b-46766aa26f87"
      },
      "execution_count": 18,
      "outputs": [
        {
          "output_type": "stream",
          "name": "stdout",
          "text": [
            "calories    420\n",
            "duration     50\n",
            "Name: 0, dtype: int64\n"
          ]
        }
      ]
    },
    {
      "cell_type": "code",
      "source": [
        "#gunakan daftar indeks:\n",
        "print(df.loc[[0, 1]])"
      ],
      "metadata": {
        "colab": {
          "base_uri": "https://localhost:8080/"
        },
        "id": "C3EkxmemuSxG",
        "outputId": "056013f6-48fb-4436-ddbd-ca3e96189617"
      },
      "execution_count": 19,
      "outputs": [
        {
          "output_type": "stream",
          "name": "stdout",
          "text": [
            "   calories  duration\n",
            "0       420        50\n",
            "1       380        40\n"
          ]
        }
      ]
    },
    {
      "cell_type": "markdown",
      "source": [
        "# Load files to dataframe"
      ],
      "metadata": {
        "id": "y1rymEpLvcdf"
      }
    },
    {
      "cell_type": "code",
      "source": [
        "import pandas as pd\n",
        "\n",
        "df = pd.read_csv('data.csv')\n",
        "\n",
        "print(df.to_string())"
      ],
      "metadata": {
        "colab": {
          "base_uri": "https://localhost:8080/"
        },
        "id": "Ui74Cxh9vdVk",
        "outputId": "9332e50d-8553-4895-d9bb-701899ac2492"
      },
      "execution_count": 23,
      "outputs": [
        {
          "output_type": "stream",
          "name": "stdout",
          "text": [
            "          NPM                               NAMA\n",
            "0   183220001           Rafli Syahrial Putradewa\n",
            "1   183220003             Sri Nuryani Pujiastuti\n",
            "2   183220002              Allya Sofiana Assyifa\n",
            "3   183220004            Shifa Al-Fathia Laksana\n",
            "4   183220007                Fadhil Irmani Putra\n",
            "5   183220006                      Nurul Faujiah\n",
            "6   183220008              Muhammad Dafa Farhani\n",
            "7   183220009             Jonathan Rizky Sitorus\n",
            "8   183220010                         Febriyanti\n",
            "9   183220045     Muhammad Renaga Shafar Anggara\n",
            "10  183220012                Majestin Ammadienta\n",
            "11  183220013                 Nauro Cahya Kanthi\n",
            "12  183220014               Muhammad Nurdiansyah\n",
            "13  183220016              Firyal Iftinan Dianti\n",
            "14  183220015         Ravendirtha Muchlas Aldino\n",
            "15  183220017                        Wildan Azis\n",
            "16  183220018                    Alia Mega Putri\n",
            "17  183220019                 Jose Elio Parhusip\n",
            "18  183220021                  Anindhita Azzahra\n",
            "19  183220020  Reynara Oliver Sandedigo Simamora\n",
            "20  183220022                    Hidayah Kamulia\n",
            "21  183220028         Devina Syilva Putri Feliza\n",
            "22  183220055                  Muhammad Amrulloh\n",
            "23  183220027                        Siti Umayah\n",
            "24  183220023                     Hanif Annaufal\n",
            "25  183220026                 Ahmad Nouval Riant\n",
            "26  183220025                         Fiska Dewi\n",
            "27  183220029              Mochamad Fakhriy Afif\n",
            "28  183220031                   Nailah Salsabila\n"
          ]
        }
      ]
    },
    {
      "cell_type": "code",
      "source": [
        "import pandas as pd\n",
        "\n",
        "df = pd.read_csv('/content/data.csv')\n",
        "\n",
        "print(df.to_string())"
      ],
      "metadata": {
        "colab": {
          "base_uri": "https://localhost:8080/"
        },
        "id": "gZXkcRSGw6Ec",
        "outputId": "26a54680-a667-4f72-bc94-7e81b691a753"
      },
      "execution_count": 24,
      "outputs": [
        {
          "output_type": "stream",
          "name": "stdout",
          "text": [
            "          NPM                               NAMA\n",
            "0   183220001           Rafli Syahrial Putradewa\n",
            "1   183220003             Sri Nuryani Pujiastuti\n",
            "2   183220002              Allya Sofiana Assyifa\n",
            "3   183220004            Shifa Al-Fathia Laksana\n",
            "4   183220007                Fadhil Irmani Putra\n",
            "5   183220006                      Nurul Faujiah\n",
            "6   183220008              Muhammad Dafa Farhani\n",
            "7   183220009             Jonathan Rizky Sitorus\n",
            "8   183220010                         Febriyanti\n",
            "9   183220045     Muhammad Renaga Shafar Anggara\n",
            "10  183220012                Majestin Ammadienta\n",
            "11  183220013                 Nauro Cahya Kanthi\n",
            "12  183220014               Muhammad Nurdiansyah\n",
            "13  183220016              Firyal Iftinan Dianti\n",
            "14  183220015         Ravendirtha Muchlas Aldino\n",
            "15  183220017                        Wildan Azis\n",
            "16  183220018                    Alia Mega Putri\n",
            "17  183220019                 Jose Elio Parhusip\n",
            "18  183220021                  Anindhita Azzahra\n",
            "19  183220020  Reynara Oliver Sandedigo Simamora\n",
            "20  183220022                    Hidayah Kamulia\n",
            "21  183220028         Devina Syilva Putri Feliza\n",
            "22  183220055                  Muhammad Amrulloh\n",
            "23  183220027                        Siti Umayah\n",
            "24  183220023                     Hanif Annaufal\n",
            "25  183220026                 Ahmad Nouval Riant\n",
            "26  183220025                         Fiska Dewi\n",
            "27  183220029              Mochamad Fakhriy Afif\n",
            "28  183220031                   Nailah Salsabila\n"
          ]
        }
      ]
    },
    {
      "cell_type": "code",
      "source": [],
      "metadata": {
        "id": "GM7_ym8Nvdd7"
      },
      "execution_count": null,
      "outputs": []
    }
  ]
}